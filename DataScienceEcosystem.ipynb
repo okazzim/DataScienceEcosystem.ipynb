{
 "cells": [
  {
   "cell_type": "markdown",
   "id": "c8ef57ff",
   "metadata": {},
   "source": [
    "<h1>Data Science Tools and Ecosystem</h1>"
   ]
  },
  {
   "cell_type": "markdown",
   "id": "549b058d",
   "metadata": {},
   "source": [
    "<h2>Introduction</h2>"
   ]
  },
  {
   "cell_type": "markdown",
   "id": "c77fe1f3",
   "metadata": {},
   "source": [
    "In this notebook, Data Science Tools and Ecosystem are summarized."
   ]
  },
  {
   "cell_type": "markdown",
   "id": "781b4337",
   "metadata": {},
   "source": [
    "<h2>Objectives</h2>\n",
    "\n",
    "- List Popular languages for Data science\n",
    "\n",
    "- List popular libraries used for Data science\n",
    "\n",
    "- List tools used in Data science"
   ]
  },
  {
   "cell_type": "markdown",
   "id": "cf5b9403",
   "metadata": {},
   "source": [
    "<strong>Some of the popular languages that Data Scientists use are:</strong>\n",
    "1. Python\n",
    "2. R\n",
    "3. SQL"
   ]
  },
  {
   "cell_type": "markdown",
   "id": "b9ecac5f",
   "metadata": {},
   "source": [
    "<strong>Some of the commonly used libraries used by Data Scientists include:</strong>\n",
    "1. TensorFlow.\n",
    "2. NumPy.\n",
    "3. SciPy.\n",
    "4. Pandas.\n",
    "5. Matplotlib.\n",
    "6. Keras.\n",
    "7. SciKit-Learn.\n",
    "8. PyTorch."
   ]
  },
  {
   "cell_type": "markdown",
   "id": "0613eaed",
   "metadata": {},
   "source": [
    "\n",
    "|Data Science Tools| \n",
    "|:--------:|\n",
    "|  Apache Spark |\n",
    "| Jupyter Notebook |\n",
    "| Apache Hadhoop |\n",
    "| PostGre SQL |\n",
    "| Excel |  \n",
    "  "
   ]
  },
  {
   "cell_type": "code",
   "execution_count": 1,
   "id": "4352d15f",
   "metadata": {},
   "outputs": [
    {
     "data": {
      "text/plain": [
       "17"
      ]
     },
     "execution_count": 1,
     "metadata": {},
     "output_type": "execute_result"
    }
   ],
   "source": [
    "# This a simple arithmetic expression to mutiply then add integers.\n",
    "(3*4)+5"
   ]
  },
  {
   "cell_type": "code",
   "execution_count": 4,
   "id": "fd731562",
   "metadata": {},
   "outputs": [
    {
     "name": "stdout",
     "output_type": "stream",
     "text": [
      "200 mins converted to hours is 3.3333333333333335hrs\n"
     ]
    }
   ],
   "source": [
    "#  This will convert 200 minutes to hours by diving by 60\n",
    "time_in_minutes = 200\n",
    "time_in_hours = time_in_minutes/60\n",
    "print(f\"{time_in_minutes} mins converted to hours is {time_in_hours}hrs\")"
   ]
  },
  {
   "cell_type": "markdown",
   "id": "660b9c81",
   "metadata": {},
   "source": [
    "<h2>Author</h2>\n",
    "Olubumi Kazzim"
   ]
  },
  {
   "cell_type": "code",
   "execution_count": null,
   "id": "1637cea7",
   "metadata": {},
   "outputs": [],
   "source": []
  }
 ],
 "metadata": {
  "kernelspec": {
   "display_name": "Python 3",
   "language": "python",
   "name": "python3"
  },
  "language_info": {
   "codemirror_mode": {
    "name": "ipython",
    "version": 3
   },
   "file_extension": ".py",
   "mimetype": "text/x-python",
   "name": "python",
   "nbconvert_exporter": "python",
   "pygments_lexer": "ipython3",
   "version": "3.8.8"
  }
 },
 "nbformat": 4,
 "nbformat_minor": 5
}
